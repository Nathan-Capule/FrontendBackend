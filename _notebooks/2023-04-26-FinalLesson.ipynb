{
 "cells": [
  {
   "attachments": {},
   "cell_type": "markdown",
   "metadata": {},
   "source": [
    "# Frontend and Backend Development with Big Idea 1 Review\n",
    "- toc: true\n",
    "- badges: false\n",
    "- comments: true\n",
    "- author: Shruthi Malayath, Lina Awad, Lydia Cho, Sarah Liu, Jake Warren\n",
    "- categories: [student]\n",
    "- type: ap\n",
    "- week: 31\n",
    "\n",
    "Today, our goal is to review front-end to backend connections and how they have been used in creating our projects this year. We will also go into detail on concepts that may be unfamiliar like pandas and python api fetch.\n",
    "\n",
    "Please make a copy of our repository. In your terminal type: git clone https://github.com/jiya-sav/ourshiny.git "
   ]
  },
  {
   "attachments": {},
   "cell_type": "markdown",
   "metadata": {},
   "source": [
    "## Installing Scripts Lesson\n"
   ]
  },
  {
   "attachments": {},
   "cell_type": "markdown",
   "metadata": {},
   "source": [
    "### For Windows\n",
    "\n",
    "After you've installed VSCode using WSL, install Anaconda on WSL. \n",
    "\n",
    "Anaconda is like a big tool box for your computer, it has tools and libraries that you might need for data analysis, programming, and computing. Anaconda Python packages include pandas, numpy, sqlite, jupyter, bash, and other kernels. Conda is a tool that helps you manage these tools inside Anaconda. It lets you install, update, delete, and organize packages and materials. Conda script tells Conda what tools and materials you need and how to install them in your Anaconda toolbox.\n"
   ]
  },
  {
   "cell_type": "markdown",
   "metadata": {},
   "source": [
    "Type these commands in powershell or terminal"
   ]
  },
  {
   "cell_type": "code",
   "execution_count": null,
   "metadata": {},
   "outputs": [],
   "source": [
    "PS C:\\Users\\UserName> wsl  # Windows prompt to WSL command\n",
    "$ cd /tmp # used to store temporary files \n",
    "$ wget https://repo.anaconda.com/archive/Anaconda3-2023.03-Linux-x86_64.sh # downloadable file\n",
    "$ chmod +x Anaconda3-2022.05-Linux-x86_64.sh # chmod (change mode command) changes permissions for a file or directory \n",
    "# Answer yes to all the prompts\n",
    "$ ./Anaconda3-2022.05-Linux-x86_64.sh "
   ]
  },
  {
   "cell_type": "markdown",
   "metadata": {},
   "source": [
    "Start a new WSL Command or Powershell. Now the WSL prompt should be prefixed with (base) from Anaconda install. If not, go back to Anaconda install. The base prefix indicates that you are running inside the conda/anaconda environment. The command \"conda deactivate\" should bring you back. "
   ]
  },
  {
   "cell_type": "code",
   "execution_count": null,
   "metadata": {},
   "outputs": [],
   "source": [
    "PS C:\\Users\\ShayM> wsl  # Windows prompt\n",
    "(base) shay@MSI:/mnt/c/Users/ShayM$ cd ~ # WSL prompt\n",
    "(base) shay@MSI:~$ # WSL home, best place to install files\n",
    "\n",
    "# you can check your conda versions\n",
    "(base) id:~$ conda --version "
   ]
  },
  {
   "cell_type": "markdown",
   "metadata": {},
   "source": []
  },
  {
   "attachments": {},
   "cell_type": "markdown",
   "metadata": {},
   "source": [
    "### For MacOS\n",
    "\n",
    "> Python2 install on MacOS\n",
    "- Install [Python2](https://www.python.org/ftp/python/2.7.18/python-2.7.18-macosx10.9.pkg)\n",
    "\n",
    "> VSCode install on MacOS.  \n",
    "- Install [VSCode](https://code.visualstudio.com/docs/setup/mac)\n",
    "\n",
    "> Anaconda install on MacOS.\n",
    "- Download for MacOS: [Anaconda](https://www.anaconda.com/products/distribution)\n",
    "- Run Install: Answer yes to questions\n",
    "\n",
    "> Homebrew install on MacOS\n",
    "- Homebrew is a tool that helps you easily install and manage software on your Mac. Think of it like a virtual store for your computer where you can browse, download and install a variety of useful programs and tools.\n",
    "- Copy and Paste to Install from Terminal [Homebrew](https://brew.sh)\n",
    "    - Copy ```bash ... curl ...```  command using copy box on website\n",
    "    - Launch ```terminal``` from search bar\n",
    "    - Paste ```bash ... curl ...``` command into Terminal ... \n",
    "    - Make sure command starts, this should provide feedback/output in terminal and could take a long time, like 10-min, there could be a prompt in the middle, at about 5-minutes.  Follow any on screen instructions provided in terminal output to finish.\n",
    "- Homebrew installs a tool called \"brew\" which helps add and manage developer packages on MacOS. \n",
    "\n",
    "Start a new WSL terminal. Now the terminal prompt should be prefixed with (base) from Anaconda install. If not, go back to Anaconda install. \n",
    "\n",
    "> Having Homebrew and Anaconda allows you to easily install Key Packages needed on MacOS like the commands below are all neccessary: \n",
    "```bash\n",
    "$ brew list # list packages\n",
    "$ brew update # update package list\n",
    "$ brew upgrade # upgrade packages\n",
    "$ brew install git  # install latest git\n",
    "$ brew install python # install python3 for development\n",
    "$ python --version # version of python3 installed\n",
    "$ brew install java # openjdk install\n"
   ]
  },
  {
   "attachments": {},
   "cell_type": "markdown",
   "metadata": {},
   "source": [
    "- Hacks: Screen shot that you have conda installed  "
   ]
  },
  {
   "attachments": {},
   "cell_type": "markdown",
   "metadata": {},
   "source": [
    "## Setting up GitHub Pages with FastPages Features\n",
    "\n",
    "All of you have created your own repository before at the beginning of the year, but some things have changed in the process."
   ]
  },
  {
   "attachments": {},
   "cell_type": "markdown",
   "metadata": {},
   "source": [
    "1. Duplicate APCSP, and use it as template for your own repo\n",
    "\n",
    "![](images/gnr1.png)\n",
    "\n",
    "2. Name your repo and include all branches before clicking the green create button.\n",
    "\n",
    "![](images/gnr2.png)\n",
    "\n",
    "3. If you have an automatically generated pull request, then go ahead and follow the instructions on there. If there is no pull request, as shown below, then move on to step 4.\n",
    "\n",
    "![](images/gnr3.png)\n",
    "\n",
    "4. Navigate to [this link](https://8gwifi.org/sshfunctions.jsp). Select: RSA and 4096 and leave Passphrase blank. Click the blue button Generate-SSH-Keys. You have just created an ssh key-pair.\n",
    "\n",
    "![](images/gnr4.png)\n",
    "\n",
    "5. Navigate to this link. Replace the section of the link \"yourrepositoryname\" with your repository name. In the picture, I have inputted “ourshiny,” because it is my repository name. Replace the section of the link \"yourgithubname\" with your repository name that you just made.\n",
    "\thttps://github.com/yourgithubname/yourrepositoryname/settings/secrets/actions\n",
    "\n",
    "![](images/gnr5.png)\n",
    "\n",
    "6. Click New repository secret. Copy and paste the Private Key (generated in step 4) into the Value field. This includes the \"---BEGIN RSA PRIVATE KEY---\" and \"--END RSA PRIVATE KEY---\" portions. In the Name field, name the secret SSH_DEPLOY_KEY. Once done, click the green Add Secret button.\n",
    "\n",
    "![](images/gnr6.png)\n",
    "\n",
    "7. Navigate to this link, then replace the portions below with your github and repository names. My github name in the image below is jiya-sav, and my repository name is ourshiny.\n",
    "\thttps://github.com/yourgithubname/yourrepositoryname/settings/keys\n",
    "\n",
    "![](images/gnr7.png)\n",
    "\n",
    "8. Click the Add deploy key button. Paste your Public Key (generated in step 4) into the Key box. In the Title, name the key anything you want, for example fastpages-key. Finally, make sure you click the checkbox next to Allow write access (pictured below), and click the green Add key button to save the key.\n",
    "\n",
    "![](images/gnr8.png)\n",
    "\n",
    "![](images/gnr9.png)\n",
    "\n",
    "9. GitHub Actions will build your site, which will take 2-3 minutes to complete. This will happen anytime you push changes to the master branch of your repository. You can monitor the logs of this if you like on the Actions tab of your repo.\n",
    "Your GH-Pages Status badge on your README will eventually appear and be green, indicating your first successful build.\n",
    "You can monitor the status of your site in the GitHub Pages section of your repository settings.\n",
    "\n",
    "Now that you have made your repository secure, you can clone it into vscode and CODE, CODE, CODE!!!"
   ]
  },
  {
   "attachments": {},
   "cell_type": "markdown",
   "metadata": {},
   "source": [
    "## How to Make a Pull Request \n",
    "\n",
    "1. After you've cloned a repository and made changes to it, go to pull requests in your Github repository \n",
    "\n",
    "2. Once you click 'create new pull request,' you should see this with your new changes: \n",
    "\n",
    "3. Change the title and send the pull request \n",
    "\n",
    "- Hacks: You will be turning in all your hacks as a pull request. Title the pull request as shown in the third step but with your own name. Any other titles will not be accepted. "
   ]
  },
  {
   "attachments": {},
   "cell_type": "markdown",
   "metadata": {},
   "source": [
    "## Fetching\n",
    "\n",
    "### The Basics\n",
    "- Fetching means getting data from somewhere else, like a website or database.\n",
    "\n",
    "JavaScript is a programming language that can be used to fetch data from a website or database.\n",
    "\n",
    "- When you fetch data with JavaScript, you first need to tell it where to get the data from. This is called the URL.\n",
    "- Once you know the URL, you can use JavaScript to go and get the data from that URL.\n",
    "- When the data comes back, it's usually in a format like text or JSON. This means that you might need to do some additional work to turn the data into something that your website or application can use.\n",
    "- Once you have the data, you can use JavaScript to display it on your website or application. You can put it in a table, show it on a map, or do anything else you can think of.\n",
    "\n",
    "![](images/frontback.png)\n",
    "\n",
    "### About Fetching\n",
    "#### Method\n",
    "The fetching methods are in line with the CRUD (Create, Read, Update, Delete), and list as follows:\n",
    "- \"GET\": Probably the most common method you would use, which is in line with \"read\". It essentially \"gets\" the information from the API and brings it to the frontend where you are able to display it and read it.\n",
    "- \"POST\": Lines up with \"create\" and adds a resource to the API. You will probably mostly be using this with your own API or if a website adds your input to an API.\n",
    "- \"PUT\" and \"PATCH\": Essentially the \"update\" for API. Use \"PUT\" if you want to change the whole resource, or \"PATCH\" if you want to change just one part of a resource.\n",
    "- \"DELETE\": Exactly how it sounds, deletes a resource from the API\n",
    "\n",
    "\n",
    "Popcorn Hacks:\n",
    "- What method should I use if I want to display some of the data stored in the backend?\n",
    "To display some data in backend, you can use a GET request.\n",
    "- What method would I use if something in the data is misspelled and I want to fix it real quick?\n",
    "To update data you could use a PUT/PATCH request.\n",
    "- What method should I use if I want to add a new entry to the data?\n",
    "To add new data, one could use a POST request.\n",
    "\n",
    "### Filtering Data\n",
    "- If we want to display API data, we are going to have to filter what we want to display for multiple reasons\n",
    "    - These include making sure that the user only sees information they need to see, and not anything else\n",
    "    - Also we need to present the information in a readable format instead of just seeing the raw data"
   ]
  },
  {
   "attachments": {},
   "cell_type": "markdown",
   "metadata": {},
   "source": [
    "The below code segment, is from a previous project. It shows the use of a url being fetched, and the JavaScript fetch() command being implemented."
   ]
  },
  {
   "cell_type": "code",
   "execution_count": null,
   "metadata": {
    "vscode": {
     "languageId": "javascript"
    }
   },
   "outputs": [],
   "source": [
    "// prepare fetch url\n",
    "  // const url = \"https://ssjn.nighthawkcodescrums.gq/api/song\";\n",
    "  const url = \"https://ssjncpt.duckdns.org/api/song\";\n",
    "  const sad_url = url + \"/sad/\";  // sad category\n",
    "  const happy_url = url + \"/happy/\";  // happy category\n",
    "  const rage_url = url + \"/rage/\";  // rage category\n",
    "  const indian_url = url + \"/indian/\"; // indian category\n",
    "\n",
    "  // prepare fetch GET options\n",
    "  const options = {\n",
    "    method: 'GET', // *GET, POST, PUT, DELETE, etc.\n",
    "    mode: 'cors', // cors, *cors, same-origin\n",
    "    cache: 'default', // *default, no-cache, reload, force-cache, only-if-cached\n",
    "    credentials: 'omit', // include, *same-origin, omit\n",
    "    headers: {\n",
    "      'Content-Type': 'application/json'\n",
    "      // 'Content-Type': 'application/x-www-form-urlencoded',\n",
    "    },\n",
    "  };\n",
    "  // prepare fetch PUT options, clones with JS Spread Operator (...)\n",
    "  const put_options = {...options, method: 'PUT'}; // clones and replaces method\n",
    "\n",
    "  // fetch the API\n",
    "  fetch(url, options)\n",
    "    // response is a RESTful \"promise\" on any successful fetch\n",
    "    .then(response => {\n",
    "      // check for response errors\n",
    "      if (response.status !== 200) {\n",
    "          error('GET API response failure: ' + response.status);\n",
    "          return;\n",
    "      }\n",
    "    })\n",
    "      // valid response will have JSON data"
   ]
  },
  {
   "attachments": {},
   "cell_type": "markdown",
   "metadata": {},
   "source": [
    "## Third Party APIs\n",
    "\n",
    "- APIs provided by other developers for public use.\n",
    "\n",
    "- Programmers can use the content of these APIs to create new functionalities for their programs, or they can also simply take advantage of the data of the API for different uses.\n",
    "\n",
    "  - Ex: A developed can use Google Account login to allow users to log in with their google account\n",
    "\n",
    "  - Ex: Using the content of a weather API to make a weather app \n",
    "\n",
    "- The functionalities of these APIs are usually accessed via JavaScript (usually) as you’ve seen before in your past projects.\n",
    "\n",
    "- 3rd party APIs are located on third party servers. To access them from JavaScript you first need to connect to the API functionality and make it available on your page. "
   ]
  },
  {
   "cell_type": "code",
   "execution_count": null,
   "metadata": {
    "vscode": {
     "languageId": "html"
    }
   },
   "outputs": [],
   "source": [
    "<script src=\"https://api.mqcdn.com/sdk/mapquest-js/v1.3.2/mapquest.js\" defer></script>\n",
    "<link  rel=\"stylesheet\"  href=\"https://api.mqcdn.com/sdk/mapquest-js/v1.3.2/mapquest.css\" />"
   ]
  },
  {
   "attachments": {},
   "cell_type": "markdown",
   "metadata": {},
   "source": [
    "- Here is an example of accessing the objects available in the library above."
   ]
  },
  {
   "cell_type": "code",
   "execution_count": null,
   "metadata": {
    "vscode": {
     "languageId": "javascript"
    }
   },
   "outputs": [],
   "source": [
    "const map = L.mapquest.map('map', {\n",
    "    center: [53.480759, -2.242631],\n",
    "    layers: L.mapquest.tileLayer('map'),\n",
    "    zoom: 12\n",
    "  });"
   ]
  },
  {
   "attachments": {},
   "cell_type": "markdown",
   "metadata": {},
   "source": [
    "- The process of accessing and using third-party APIs can vary depending on the specific API and the requirements set by the API provider.\n",
    "3rd party APIs use developer keys to allow developers access to the API functionality, which protects the owner of the API."
   ]
  },
  {
   "cell_type": "code",
   "execution_count": null,
   "metadata": {
    "vscode": {
     "languageId": "javascript"
    }
   },
   "outputs": [],
   "source": [
    "L.mapquest.key = '1f0d716124msh1212fad6c69c97bp1c99ecjsn76cf00780e58';"
   ]
  },
  {
   "attachments": {},
   "cell_type": "markdown",
   "metadata": {},
   "source": [
    "- Developers must apply to get the key of a certain API, and then include it in their code to be allowed access to the API's functionality.\n",
    "Some API keys are accessed slightly differently, but the method is similar for the most part.\n",
    "\n",
    "Put the link of a 3rd party API you have or will use below?"
   ]
  },
  {
   "cell_type": "markdown",
   "metadata": {},
   "source": [
    "### https://car-api2.p.rapidapi.com/api/vin/KNDJ23AU4N7154467"
   ]
  },
  {
   "attachments": {},
   "cell_type": "markdown",
   "metadata": {},
   "source": [
    "## Pandas\n",
    "\n",
    "While 3rd party APIs give you access to a plethora of data you may have not been able to include using a completely new self-made database, pandas can help you organize and utlize this data. \n",
    "\n",
    "Pandas is an open-source library that allows for the manipulation and analysis of numerical data, which is vital in real-life applications. \n",
    "\n",
    "We have used this in the song recommendation program we are currently developing. The use of pandas allows us to take the csv file we obtained from a third party and display it in a format we can manipulate and analyze."
   ]
  },
  {
   "cell_type": "code",
   "execution_count": null,
   "metadata": {},
   "outputs": [],
   "source": [
    "import os\n",
    "import pandas as pd\n",
    "from flask import render_template\n",
    "\n",
    "@app.route('/songdata')\n",
    "def songdata():\n",
    "    # Path to the CSV file\n",
    "    csv_path = os.path.join(app.static_folder, 'songdata.csv')\n",
    "\n",
    "    # Read the CSV file into a pandas dataframe\n",
    "    df = pd.read_csv(csv_path)\n",
    "\n",
    "    # Render the dataframe as an HTML table using Jinja2\n",
    "    return render_template('songdata.html', table=df.to_html(index=False))"
   ]
  },
  {
   "attachments": {},
   "cell_type": "markdown",
   "metadata": {},
   "source": [
    "This is how the dataframe will appear on our flask:\n",
    "\n",
    "![](images/localpand.png)\n",
    "\n"
   ]
  },
  {
   "attachments": {},
   "cell_type": "markdown",
   "metadata": {},
   "source": [
    "## Python (Request) Fetch\n",
    "### Example with Weather API\n",
    "\n",
    "- What method is being used in these cells?\n",
    "\n",
    "## GET"
   ]
  },
  {
   "cell_type": "code",
   "execution_count": 41,
   "metadata": {},
   "outputs": [
    {
     "name": "stdout",
     "output_type": "stream",
     "text": [
      "{'location': {'city': 'San Diego', 'woeid': 2487889, 'country': 'United States', 'lat': 32.831699, 'long': -117.122002, 'timezone_id': 'America/Los_Angeles'}, 'current_observation': {'pubDate': 1682736750, 'wind': {'chill': 56, 'direction': 'West', 'speed': 6}, 'atmosphere': {'humidity': 80, 'visibility': 10, 'pressure': 1015.9}, 'astronomy': {'sunrise': '6:03 AM', 'sunset': '7:29 PM'}, 'condition': {'temperature': 58, 'text': 'Mostly Cloudy', 'code': 28}}, 'forecasts': [{'day': 'Fri', 'date': 1682784000, 'high': 68, 'low': 55, 'text': 'Mostly Clear', 'code': 33}, {'day': 'Sat', 'date': 1682870400, 'high': 71, 'low': 57, 'text': 'Partly Cloudy', 'code': 30}, {'day': 'Sun', 'date': 1682956800, 'high': 70, 'low': 57, 'text': 'Partly Cloudy', 'code': 30}, {'day': 'Mon', 'date': 1683043200, 'high': 62, 'low': 54, 'text': 'Cloudy', 'code': 26}, {'day': 'Tue', 'date': 1683129600, 'high': 62, 'low': 52, 'text': 'Mostly Cloudy', 'code': 28}, {'day': 'Wed', 'date': 1683216000, 'high': 64, 'low': 53, 'text': 'Partly Cloudy', 'code': 30}, {'day': 'Thu', 'date': 1683302400, 'high': 65, 'low': 51, 'text': 'Scattered Showers', 'code': 45}, {'day': 'Fri', 'date': 1683388800, 'high': 63, 'low': 53, 'text': 'Sunny', 'code': 32}, {'day': 'Sat', 'date': 1683475200, 'high': 64, 'low': 54, 'text': 'Sunny', 'code': 32}, {'day': 'Sun', 'date': 1683561600, 'high': 66, 'low': 54, 'text': 'Cloudy', 'code': 26}, {'day': 'Mon', 'date': 1683648000, 'high': 66, 'low': 53, 'text': 'Mostly Cloudy', 'code': 28}]}\n"
     ]
    }
   ],
   "source": [
    "import requests\n",
    "\n",
    "url = \"https://yahoo-weather5.p.rapidapi.com/weather\"\n",
    "\n",
    "querystring = {\"location\":\"San Diego\",\"format\":\"json\",\"u\":\"f\"}\n",
    "\n",
    "headers = {\n",
    "\t\"X-RapidAPI-Key\": \"4abcb54450msh7468dfd72294e89p18fbaajsn6d4200063b39\",\n",
    "\t\"X-RapidAPI-Host\": \"yahoo-weather5.p.rapidapi.com\"\n",
    "}\n",
    "\n",
    "response = requests.request(\"GET\", url, headers=headers, params=querystring)\n",
    "\n",
    "print(response.json())"
   ]
  },
  {
   "cell_type": "markdown",
   "metadata": {},
   "source": [
    "The fetch worked and we can see all the data, but this is presented in a way that is not very readable. It also has a lot of information we didn't see. Let's say I just want to see the projected weather forecasts."
   ]
  },
  {
   "cell_type": "code",
   "execution_count": 40,
   "metadata": {},
   "outputs": [
    {
     "name": "stdout",
     "output_type": "stream",
     "text": [
      "San Diego Weather Forecast:\n",
      "\n",
      "\tday Fri\n",
      "\tdate 1682784000\n",
      "\thigh 68\n",
      "\tlow 55\n",
      "\ttext Mostly Clear\n",
      "\tcode 33\n",
      "\n",
      "\n",
      "\tday Sat\n",
      "\tdate 1682870400\n",
      "\thigh 71\n",
      "\tlow 57\n",
      "\ttext Partly Cloudy\n",
      "\tcode 30\n",
      "\n",
      "\n",
      "\tday Sun\n",
      "\tdate 1682956800\n",
      "\thigh 70\n",
      "\tlow 57\n",
      "\ttext Partly Cloudy\n",
      "\tcode 30\n",
      "\n",
      "\n",
      "\tday Mon\n",
      "\tdate 1683043200\n",
      "\thigh 62\n",
      "\tlow 54\n",
      "\ttext Cloudy\n",
      "\tcode 26\n",
      "\n",
      "\n",
      "\tday Tue\n",
      "\tdate 1683129600\n",
      "\thigh 62\n",
      "\tlow 52\n",
      "\ttext Mostly Cloudy\n",
      "\tcode 28\n",
      "\n",
      "\n",
      "\tday Wed\n",
      "\tdate 1683216000\n",
      "\thigh 64\n",
      "\tlow 53\n",
      "\ttext Partly Cloudy\n",
      "\tcode 30\n",
      "\n",
      "\n",
      "\tday Thu\n",
      "\tdate 1683302400\n",
      "\thigh 65\n",
      "\tlow 51\n",
      "\ttext Scattered Showers\n",
      "\tcode 45\n",
      "\n",
      "\n",
      "\tday Fri\n",
      "\tdate 1683388800\n",
      "\thigh 63\n",
      "\tlow 53\n",
      "\ttext Sunny\n",
      "\tcode 32\n",
      "\n",
      "\n",
      "\tday Sat\n",
      "\tdate 1683475200\n",
      "\thigh 64\n",
      "\tlow 54\n",
      "\ttext Sunny\n",
      "\tcode 32\n",
      "\n",
      "\n",
      "\tday Sun\n",
      "\tdate 1683561600\n",
      "\thigh 66\n",
      "\tlow 54\n",
      "\ttext Cloudy\n",
      "\tcode 26\n",
      "\n",
      "\n",
      "\tday Mon\n",
      "\tdate 1683648000\n",
      "\thigh 66\n",
      "\tlow 53\n",
      "\ttext Mostly Cloudy\n",
      "\tcode 28\n",
      "\n",
      "\n"
     ]
    }
   ],
   "source": [
    "import requests\n",
    "\n",
    "url = \"https://yahoo-weather5.p.rapidapi.com/weather\"\n",
    "\n",
    "querystring = {\"location\":\"San Diego\",\"format\":\"json\",\"u\":\"f\"}\n",
    "\n",
    "headers = {\n",
    "\t\"X-RapidAPI-Key\": \"4abcb54450msh7468dfd72294e89p18fbaajsn6d4200063b39\",\n",
    "\t\"X-RapidAPI-Host\": \"yahoo-weather5.p.rapidapi.com\"\n",
    "}\n",
    "\n",
    "response = requests.request(\"GET\", url, headers=headers, params=querystring)\n",
    "\n",
    "print(\"San Diego Weather Forecast:\" + \"\\n\")\n",
    "forecast = response.json().get(\"forecasts\")\n",
    "i = 0\n",
    "while i < len(forecast):\n",
    "\tfor key, value in forecast[i].items():\n",
    "\t\tprint(\"\\t\" + key, value)\n",
    "\ti += 1\n",
    "\tprint(\"\\n\")"
   ]
  },
  {
   "cell_type": "markdown",
   "metadata": {},
   "source": [
    "As we can see, we now can see the data in a much more organized and readable format, and we only see the forecasts, which is what we wanted to see"
   ]
  },
  {
   "attachments": {},
   "cell_type": "markdown",
   "metadata": {},
   "source": [
    "# Hacks and Point Division\n",
    "\n",
    "- Popcorn questions answered within lesson (.2)\n",
    "- Screenshot showing proof that conda is installed (.1)\n",
    "[Conda Proof](https://docs.google.com/drawings/d/18F02NasGfpTPrMdzuLqukXFXg3-QdG3ErBxMny_U_v8/edit?usp=sharing)\n",
    "- Create 3 quiz questions to demonstrate the main steps in creating a repository on Github (.1)\n",
    "\n",
    "3 Quiz Questions\n",
    "\n",
    "What is the first step to creating a repository on Github?\n",
    "A. Clone an existing repository\n",
    "B. Fork an existing repository\n",
    "C. Create a new repository\n",
    "D. Pull changes from a remote repository\n",
    "Answer: C. Create a new repository\n",
    "\n",
    "Which of the following is NOT a required step when creating a new repository on Github?\n",
    "A. Giving the repository a name\n",
    "B. Adding a description for the repository\n",
    "C. Choosing a license for the repository\n",
    "D. Inviting collaborators to the repository\n",
    "Answer: D. Inviting collaborators to the repository\n",
    "\n",
    "What is the purpose of a README.md file in a Github repository?\n",
    "A. To store important data in the repository\n",
    "B. To provide a brief introduction to the repository and its contents\n",
    "C. To track changes made to the repository over time\n",
    "D. To hold images and other media used in the repository\n",
    "Answer: B. To provide a brief introduction to the repository and its contents\n",
    "\n",
    "- Fetch from a third party API, and display json data. Then use the json data in any simple JavaScript function (hint: parse, this makes json data into a JavaScript object) (.4)\n",
    "  - In your code, comment on how you implemented a 3rd party API. Reflect on how using the 3rd party API helped.\n",
    "  **I used a 3rd party API so that people could fetch data about popular cars, using a 3rd party API made the process much simpler as I did not have to add all of the prexisting car data for this**\n",
    "- Pull request successful completion: (.1)\n",
    "\n",
    "[Code](https://github.com/azeem-khan1/FE-BE-Hacks)\n",
    "\n",
    "Worked on with Azeem\n",
    "\n",
    "Extra: Use fetch() and display data from an API, self-made or third party (.1)\n",
    "\n",
    "[Extra](https://azeem-khan1.github.io/FE-BE-Hacks/)"
   ]
  },
  {
   "cell_type": "code",
   "execution_count": 47,
   "metadata": {},
   "outputs": [
    {
     "name": "stdout",
     "output_type": "stream",
     "text": [
      "{'year': 2022, 'make': 'KIA', 'model': 'Soul', 'trim': 'LX, S, X Line', 'specs': {'suggested_vin': '', 'possible_values': '', 'vehicle_descriptor': 'KNDJ23AU*N7', 'destination_market': None, 'manufacturer_name': 'KIA CORPORATION', 'plant_city': 'GWANG-JU', 'series': None, 'vehicle_type': 'MULTIPURPOSE PASSENGER VEHICLE (MPV)', 'plant_country': 'SOUTH KOREA', 'plant_company_name': None, 'plant_state': None, 'trim2': None, 'series2': 'Wagon Body Style', 'note': None, 'base_price': None, 'non_land_use': None, 'body_class': 'Sport Utility Vehicle (SUV)/Multi-Purpose Vehicle (MPV)', 'doors': None, 'windows': None, 'wheel_base_type': None, 'track_width_inches': None, 'gross_vehicle_weight_rating_from': 'Class 1C: 4,001 - 5,000 lb (1,814 - 2,268 kg)', 'bed_length_inches': None, 'curb_weight_pounds': None, 'wheel_base_inches_from': None, 'wheel_base_inches_to': None, 'gross_combination_weight_rating_from': None, 'gross_combination_weight_rating_to': None, 'gross_vehicle_weight_rating_to': None, 'bed_type': None, 'cab_type': None, 'trailer_type_connection': 'Not Applicable', 'trailer_body_type': 'Not Applicable', 'trailer_length_feet': None, 'other_trailer_info': None, 'number_of_wheels': None, 'wheel_size_front_inches': None, 'wheel_size_rear_inches': None, 'entertainment_system': None, 'steering_location': None, 'number_of_seats': '5', 'number_of_seat_rows': '2', 'transmission_style': None, 'transmission_speeds': None, 'drive_type': '4x2', 'axles': None, 'axle_configuration': None, 'brake_system_type': None, 'brake_system_description': None, 'other_battery_info': None, 'battery_type': None, 'number_of_battery_cells_per_module': None, 'battery_current_amps_from': None, 'battery_voltage_volts_from': None, 'battery_energy_kwh_from': None, 'ev_drive_unit': None, 'battery_current_amps_to': None, 'battery_voltage_volts_to': None, 'battery_energy_kwh_to': None, 'number_of_battery_modules_per_pack': None, 'number_of_battery_packs_per_vehicle': None, 'charger_level': None, 'charger_power_kw': None, 'engine_number_of_cylinders': '4', 'displacement_cc': '2000.0', 'displacement_ci': '122.04748818946', 'displacement_l': '2.0', 'engine_stroke_cycles': None, 'engine_model': 'MPI NU', 'engine_power_kw': '109.6179', 'fuel_type_primary': 'Gasoline', 'valve_train_design': 'Dual Overhead Cam (DOHC)', 'engine_configuration': None, 'fuel_type_secondary': None, 'fuel_delivery_fuel_injection_type': 'Multipoint Fuel Injection (MPFI)', 'engine_brake_hp_from': '147', 'cooling_type': None, 'engine_brake_hp_to': None, 'electrification_level': None, 'other_engine_info': None, 'turbo': None, 'top_speed_mph': None, 'engine_manufacturer': 'KMC', 'pretensioner': None, 'seat_belt_type': 'Manual', 'other_restraint_system_info': 'Seat Belt: All Positions', 'curtain_air_bag_locations': '1st and 2nd Rows', 'seat_cushion_air_bag_locations': None, 'front_air_bag_locations': '1st Row (Driver and Passenger)', 'knee_air_bag_locations': None, 'side_air_bag_locations': '1st Row (Driver and Passenger)', 'anti_lock_braking_system_abs': 'Standard', 'electronic_stability_control_esc': 'Standard', 'traction_control': 'Standard', 'tire_pressure_monitoring_system_tpms_type': 'Direct', 'active_safety_system_note': None, 'auto_reverse_system_for_windows_and_sunroofs': 'Standard', 'automatic_pedestrian_alerting_sound_for_hybrid_and_ev_only': None, 'event_data_recorder_edr': None, 'keyless_ignition': None, 'sae_automation_level_from': None, 'sae_automation_level_to': None, 'ncsa_body_type': 'Station Wagon (excluding van and truck based)', 'ncsa_make': 'KIA', 'ncsa_model': 'Soul', 'ncsa_note': None, 'adaptive_cruise_control_acc': None, 'crash_imminent_braking_cib': None, 'blind_spot_warning_bsw': None, 'forward_collision_warning_fcw': None, 'lane_departure_warning_ldw': None, 'lane_keeping_assistance_lka': None, 'backup_camera': 'Standard', 'parking_assist': None, 'bus_length_feet': None, 'bus_floor_configuration_type': 'Not Applicable', 'bus_type': 'Not Applicable', 'other_bus_info': None, 'custom_motorcycle_type': 'Not Applicable', 'motorcycle_suspension_type': 'Not Applicable', 'motorcycle_chassis_type': 'Not Applicable', 'other_motorcycle_info': None, 'dynamic_brake_support_dbs': None, 'pedestrian_automatic_emergency_braking_paeb': None, 'automatic_crash_notification_acn_advanced_automatic_crash_notification_aacn': None, 'daytime_running_light_drl': 'Standard', 'headlamp_light_source': 'Halogen', 'semiautomatic_headlamp_beam_switching': None, 'adaptive_driving_beam_adb': None, 'rear_cross_traffic_alert': None, 'rear_automatic_emergency_braking': None, 'blind_spot_intervention_bsi': None, 'lane_centering_assistance': None}, 'trims': [{'id': 2236, 'make_model_id': 56, 'year': 2022, 'name': 'LX', 'description': 'LX 4dr Wagon (2.0L 4cyl CVT)', 'msrp': 19290, 'invoice': 18614, 'created': '2022-08-30T22:20:20-04:00', 'modified': '2022-08-30T22:20:20-04:00'}, {'id': 2241, 'make_model_id': 56, 'year': 2022, 'name': 'GT-Line', 'description': 'GT-Line 4dr Wagon (2.0L 4cyl CVT)', 'msrp': 22690, 'invoice': 21668, 'created': '2022-08-30T22:20:20-04:00', 'modified': '2022-08-30T22:20:20-04:00'}, {'id': 2240, 'make_model_id': 56, 'year': 2022, 'name': 'EX', 'description': 'EX 4dr Wagon (2.0L 4cyl CVT)', 'msrp': 23590, 'invoice': 22529, 'created': '2022-08-30T22:20:20-04:00', 'modified': '2022-08-30T22:20:20-04:00'}, {'id': 2239, 'make_model_id': 56, 'year': 2022, 'name': 'Turbo', 'description': 'Turbo 4dr Wagon (1.6L 4cyl Turbo 7AM)', 'msrp': 27890, 'invoice': 26634, 'created': '2022-08-30T22:20:20-04:00', 'modified': '2022-08-30T22:20:20-04:00'}, {'id': 2237, 'make_model_id': 56, 'year': 2022, 'name': 'X-Line', 'description': 'X-Line 4dr Wagon (2.0L 4cyl CVT)', 'msrp': 22690, 'invoice': 21895, 'created': '2022-08-30T22:20:20-04:00', 'modified': '2022-08-30T22:20:20-04:00'}, {'id': 2238, 'make_model_id': 56, 'year': 2022, 'name': 'S', 'description': 'S 4dr Wagon (2.0L 4cyl CVT)', 'msrp': 21590, 'invoice': 20835, 'created': '2022-08-30T22:20:20-04:00', 'modified': '2022-08-30T22:20:20-04:00'}]}\n"
     ]
    }
   ],
   "source": [
    "import requests\n",
    "\n",
    "url = \"https://car-api2.p.rapidapi.com/api/vin/KNDJ23AU4N7154467\"\n",
    "\n",
    "headers = {\n",
    "\t\"content-type\": \"application/octet-stream\",\n",
    "\t\"X-RapidAPI-Key\": \"1f0d716124msh1212fad6c69c97bp1c99ecjsn76cf00780e58\",\n",
    "\t\"X-RapidAPI-Host\": \"car-api2.p.rapidapi.com\"\n",
    "}\n",
    "\n",
    "response = requests.get(url, headers=headers)\n",
    "\n",
    "print(response.json())"
   ]
  }
 ],
 "metadata": {
  "kernelspec": {
   "display_name": "Python 3.11.2 64-bit",
   "language": "python",
   "name": "python3"
  },
  "language_info": {
   "codemirror_mode": {
    "name": "ipython",
    "version": 3
   },
   "file_extension": ".py",
   "mimetype": "text/x-python",
   "name": "python",
   "nbconvert_exporter": "python",
   "pygments_lexer": "ipython3",
   "version": "3.11.2"
  },
  "orig_nbformat": 4,
  "vscode": {
   "interpreter": {
    "hash": "aee8b7b246df8f9039afb4144a1f6fd8d2ca17a180786b69acc140d282b71a49"
   }
  }
 },
 "nbformat": 4,
 "nbformat_minor": 2
}
